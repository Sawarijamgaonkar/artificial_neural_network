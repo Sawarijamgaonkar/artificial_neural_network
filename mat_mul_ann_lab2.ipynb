{
  "nbformat": 4,
  "nbformat_minor": 0,
  "metadata": {
    "colab": {
      "provenance": [],
      "authorship_tag": "ABX9TyNBLSo6tZrP0PrDm2ia48Co",
      "include_colab_link": true
    },
    "kernelspec": {
      "name": "python3",
      "display_name": "Python 3"
    },
    "language_info": {
      "name": "python"
    }
  },
  "cells": [
    {
      "cell_type": "markdown",
      "metadata": {
        "id": "view-in-github",
        "colab_type": "text"
      },
      "source": [
        "<a href=\"https://colab.research.google.com/github/Sawarijamgaonkar/artificial_neural_network/blob/main/mat_mul_ann_lab2.ipynb\" target=\"_parent\"><img src=\"https://colab.research.google.com/assets/colab-badge.svg\" alt=\"Open In Colab\"/></a>"
      ]
    },
    {
      "cell_type": "code",
      "source": [
        "#matmul without numpu and neural network and our function of multiplication\n",
        "x=[[1,2],\n",
        "   [3,4],\n",
        "   [5,6]]\n",
        "y=[[7,8],\n",
        "   [9,0]]\n",
        "def matmul(x,y):\n",
        "  dim_a=len(a),len(a[0])\n",
        "  dim_b=len(b),len(b[0])\n",
        "  result=[]\n",
        "  for row_a in range(dim_a[0]):\n",
        "    result.append([])\n",
        "    for col_b in range(dim_b[1]):\n",
        "      result[row_a]+=[sum([a[row_a][index]*b[index][col_b] for index in range(dim_a[1])])]\n",
        "  return result\n",
        "print(matmul(x,y))"
      ],
      "metadata": {
        "colab": {
          "base_uri": "https://localhost:8080/"
        },
        "id": "4S6ZZIxrSBc7",
        "outputId": "98de1da6-94b9-4ff2-da99-f68180405490"
      },
      "execution_count": null,
      "outputs": [
        {
          "output_type": "stream",
          "name": "stdout",
          "text": [
            "[[25, 8], [57, 24], [89, 40]]\n"
          ]
        }
      ]
    },
    {
      "cell_type": "code",
      "execution_count": null,
      "metadata": {
        "colab": {
          "base_uri": "https://localhost:8080/"
        },
        "id": "ErlaDLdFLh5D",
        "outputId": "deec63dd-7d3c-4aa9-af1f-25ba4e688c29"
      },
      "outputs": [
        {
          "output_type": "stream",
          "name": "stdout",
          "text": [
            "[[25  8]\n",
            " [57 24]\n",
            " [89 40]]\n"
          ]
        }
      ],
      "source": [
        "import numpy as np\n",
        "#normal mul using numpy\n",
        "a=np.array([[1,2],\n",
        "            [3,4],\n",
        "            [5,6]])\n",
        "b=np.array([[7,8],\n",
        "            [9,0]])\n",
        "print(np.matmul(a,b))"
      ]
    },
    {
      "cell_type": "code",
      "source": [
        "#putting neural network to numpy to increase the speed\n",
        "layer1=np.array([[1.5,-0.5],\n",
        "                 [-1,1],\n",
        "                 [-1,1]])\n",
        "layer2=np.array([[-1],\n",
        "                 [1],\n",
        "                 [1]])\n",
        "def step(x):\n",
        "  return np.where(x>0,1, 0)\n",
        "def neural_net(inputs, layers,activation_func):\n",
        "  outputs=inputs\n",
        "  for layer in layers:\n",
        "    inputs=np.hstack([np.ones(shape=(outputs.shape[0],1)),outputs])\n",
        "    #shape returns order of mat like nxn\n",
        "    #output received is new input to the next layer so this explains above line\n",
        "    outputs=activation_func(np.matmul(inputs,layer))\n",
        "    return outputs\n",
        "\n",
        "inputs=[[0,0],\n",
        "         [1,0],\n",
        "         [0,1],\n",
        "         [1,0]]\n",
        "for i in inputs:\n",
        "  print(i, \"->\",neural_net(inputs=np.array([i]),layers=[layer1,layer2],activation_func=step))\n"
      ],
      "metadata": {
        "colab": {
          "base_uri": "https://localhost:8080/"
        },
        "id": "DJBHF0-NMtHN",
        "outputId": "9d5d1f76-d3e1-4666-95f3-11e35ab7d06a"
      },
      "execution_count": null,
      "outputs": [
        {
          "output_type": "stream",
          "name": "stdout",
          "text": [
            "[0, 0] -> [[1 0]]\n",
            "[1, 0] -> [[1 1]]\n",
            "[0, 1] -> [[1 1]]\n",
            "[1, 0] -> [[1 1]]\n"
          ]
        }
      ]
    },
    {
      "cell_type": "code",
      "source": [
        "#after applying neural_network getting faster outputs\n",
        "a=np.array([[1,2],\n",
        "            [3,4],\n",
        "            [5,6]])\n",
        "b=np.array([[7,8],\n",
        "            [9,0]])\n",
        "print(np.matmul(a,b))"
      ],
      "metadata": {
        "colab": {
          "base_uri": "https://localhost:8080/"
        },
        "id": "XSYiVgDkUCE2",
        "outputId": "afe12168-e23b-4867-8f51-0f7234047037"
      },
      "execution_count": null,
      "outputs": [
        {
          "output_type": "stream",
          "name": "stdout",
          "text": [
            "[[25  8]\n",
            " [57 24]\n",
            " [89 40]]\n"
          ]
        }
      ]
    }
  ]
}