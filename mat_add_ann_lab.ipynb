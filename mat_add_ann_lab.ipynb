{
  "nbformat": 4,
  "nbformat_minor": 0,
  "metadata": {
    "colab": {
      "provenance": []
    },
    "kernelspec": {
      "name": "python3",
      "display_name": "Python 3"
    },
    "language_info": {
      "name": "python"
    }
  },
  "cells": [
    {
      "cell_type": "code",
      "execution_count": null,
      "metadata": {
        "colab": {
          "base_uri": "https://localhost:8080/"
        },
        "id": "MdcpgNtX_7h7",
        "outputId": "52e39b8d-5dd7-4910-c783-770e93db7f01"
      },
      "outputs": [
        {
          "output_type": "stream",
          "name": "stdout",
          "text": [
            "[[10 10 10]\n",
            " [10 10 10]\n",
            " [10 10 10]]\n"
          ]
        }
      ],
      "source": [
        "import numpy as np\n",
        "#using numpy addition\n",
        "X = [[1, 2, 3],\n",
        "     [4, 5, 6],\n",
        "     [7, 8, 9]]\n",
        "\n",
        "Y = [[9, 8, 7],\n",
        "     [6, 5, 4],\n",
        "     [3, 2, 1]]\n",
        "\n",
        "result = np.array(X) + np.array(Y)\n",
        "\n",
        "print(result)"
      ]
    },
    {
      "cell_type": "code",
      "source": [
        "#using neural netork\n",
        "def matrix_addition_neural_network(matrix1, matrix2):\n",
        "    #checking if they have same order like nxn\n",
        "    if matrix1.shape != matrix2.shape:\n",
        "        raise ValueError(\"Matrices must have the same shape for addition.\")\n",
        "\n",
        "    # in neural network addition is done using adding weights and bias\n",
        "    weights = np.ones(matrix1.shape)\n",
        "    bias = np.zeros(matrix1.shape)\n",
        "    output = (matrix1 * weights) + (matrix2 * weights) + bias\n",
        "\n",
        "    return output\n",
        "\n",
        "matrix1 = np.array([[1, 2, 3],[4, 5, 6],[7, 8, 9]])\n",
        "matrix2 = np.array([[9, 8, 7],[6, 5, 4],[3, 2, 1]])\n",
        "result = matrix_addition_neural_network(matrix1, matrix2)\n",
        "\n",
        "\n",
        "print( result)\n"
      ],
      "metadata": {
        "colab": {
          "base_uri": "https://localhost:8080/"
        },
        "id": "pCRoD2xtF9-v",
        "outputId": "981f3cb0-8255-4588-945d-6e36ff6f308c"
      },
      "execution_count": null,
      "outputs": [
        {
          "output_type": "stream",
          "name": "stdout",
          "text": [
            "[[10. 10. 10.]\n",
            " [10. 10. 10.]\n",
            " [10. 10. 10.]]\n"
          ]
        }
      ]
    }
  ]
}